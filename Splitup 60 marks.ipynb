{
 "cells": [
  {
   "cell_type": "code",
   "execution_count": 1,
   "metadata": {},
   "outputs": [],
   "source": [
    "import random\n",
    "f = open(\"Input.txt\", \"r\")\n",
    "marks = f.readlines()\n",
    "markList = [str(int(i.strip())%60) for i in marks if i.strip()!='AB']"
   ]
  },
  {
   "cell_type": "code",
   "execution_count": 2,
   "metadata": {},
   "outputs": [],
   "source": [
    "def splitMarks(ans,marksPartB,marksPartA):\n",
    "    originalMarks = ans\n",
    "    ans = int(ans)\n",
    "\n",
    "    ##Part B Marks Allocation\n",
    "    for i in range(3):\n",
    "        partBmark = random.randint(0,16)\n",
    "        if partBmark+sum(marksPartB)>48:\n",
    "            break\n",
    "        if(ans-partBmark < 0):\n",
    "            partBmark = ans\n",
    "            break\n",
    "        marksPartB[i] += partBmark\n",
    "        ans-=partBmark\n",
    "    \n",
    "    ##Part A Marks Allocation\n",
    "    for i in range(6):\n",
    "        partAmark = random.randint(0,2)\n",
    "        if partAmark+sum(marksPartA)>12:\n",
    "            break\n",
    "        if(ans-partAmark < 0):\n",
    "            partAmark = ans\n",
    "            break\n",
    "        marksPartA[i] += partAmark\n",
    "        ans-=partAmark\n",
    "    return (marksPartA,marksPartB)"
   ]
  },
  {
   "cell_type": "code",
   "execution_count": 3,
   "metadata": {},
   "outputs": [],
   "source": [
    "def adjustMarks(temp,a,b):\n",
    "    while True:\n",
    "        for j in range(3):\n",
    "            if temp==0:\n",
    "                return (a,b)\n",
    "            if b[j]<16:\n",
    "                b[j]+=1\n",
    "                temp-=1\n",
    "        for k in range(6):\n",
    "            if temp==0:\n",
    "                return (a,b)\n",
    "            if a[k] < 2:\n",
    "                a[k]+=1\n",
    "                temp-=1\n",
    "    return (a,b)"
   ]
  },
  {
   "cell_type": "code",
   "execution_count": 4,
   "metadata": {},
   "outputs": [],
   "source": [
    "writeToExcel = []\n",
    "\n",
    "for i in markList:\n",
    "    marksPartB = [0 for i in range(3)]\n",
    "    marksPartA = [0 for i in range(6)]\n",
    "    \n",
    "    if i.isalpha():continue ##Handling Absenties\n",
    "        \n",
    "    (a,b) = splitMarks(i,marksPartB,marksPartA)\n",
    "    if sum(a+b)<int(i):\n",
    "        temp = int(i) - sum(a+b)\n",
    "        (a,b) = adjustMarks(temp,a,b)\n",
    "    writeToExcel.append(a+b+[int(i)])"
   ]
  },
  {
   "cell_type": "code",
   "execution_count": 5,
   "metadata": {},
   "outputs": [],
   "source": [
    "temp=[]\n",
    "for i in range(len(writeToExcel)):\n",
    "    single = []\n",
    "    for j in range(6):\n",
    "        single.append(writeToExcel[i][j])\n",
    "    for j in range(6,9):\n",
    "        aORb = random.randint(0,1)\n",
    "        if aORb == 0:\n",
    "            single.append(0)\n",
    "            single.append(writeToExcel[i][j])\n",
    "        else:\n",
    "            single.append(writeToExcel[i][j])\n",
    "            single.append(0)\n",
    "    for j in range(9,len(writeToExcel[i])):\n",
    "        single.append(writeToExcel[i][j])\n",
    "    temp.append(single)\n",
    "    \n",
    "writeToExcel = temp"
   ]
  },
  {
   "cell_type": "code",
   "execution_count": 6,
   "metadata": {},
   "outputs": [],
   "source": [
    "import xlwt \n",
    "from xlwt import Workbook \n",
    "\n",
    "wb = Workbook() \n",
    "  \n",
    "sheet1 = wb.add_sheet('Sheet 1') \n",
    "\n",
    "for i in range(6):\n",
    "    sheet1.write(0,i+1,i+1)\n",
    "counter = 7\n",
    "for i in range(6,9):\n",
    "    sheet1.write(0,counter,i)\n",
    "    sheet1.write(0,counter+1,i)\n",
    "    counter+=2\n",
    "sheet1.write(0,counter,\"Total Marks\")\n",
    "for i in range(len(temp)):\n",
    "    sheet1.write(i+1,0,\"names\")\n",
    "\n",
    "for i in range(len(temp)):\n",
    "    for j in range(len(temp[i])):\n",
    "        sheet1.write(i+1,j+1,int(temp[i][j]))\n",
    "\n",
    "  \n",
    "wb.save('marks 60.xls')"
   ]
  },
  {
   "cell_type": "code",
   "execution_count": null,
   "metadata": {},
   "outputs": [],
   "source": []
  },
  {
   "cell_type": "code",
   "execution_count": null,
   "metadata": {},
   "outputs": [],
   "source": []
  }
 ],
 "metadata": {
  "kernelspec": {
   "display_name": "Python 3",
   "language": "python",
   "name": "python3"
  },
  "language_info": {
   "codemirror_mode": {
    "name": "ipython",
    "version": 3
   },
   "file_extension": ".py",
   "mimetype": "text/x-python",
   "name": "python",
   "nbconvert_exporter": "python",
   "pygments_lexer": "ipython3",
   "version": "3.8.5"
  }
 },
 "nbformat": 4,
 "nbformat_minor": 4
}
