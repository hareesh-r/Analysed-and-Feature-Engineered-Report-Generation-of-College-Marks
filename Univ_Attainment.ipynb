{
 "cells": [
  {
   "cell_type": "code",
   "execution_count": null,
   "metadata": {},
   "outputs": [],
   "source": [
    "#!pip install pandas\n",
    "#!pip install xlrd==1.2.0\n",
    "#!pip install xlutils\n",
    "#!pip install import_ipynb\n",
    "import import_ipynb\n",
    "#import CO_Calc\n",
    "import pandas as pd\n",
    "import os"
   ]
  },
  {
   "cell_type": "code",
   "execution_count": null,
   "metadata": {},
   "outputs": [],
   "source": [
    "def write_co_attainment(sub_name,attainment):\n",
    "    excel_name = sub_name.replace('/',' ')+'.xls'\n",
    "    df_Paper = pd.read_excel(excel_name)\n",
    "    total_length = len(df_Paper.loc[:,])\n",
    "    internal = []\n",
    "    internal_att = []\n",
    "    univ = []\n",
    "    univ_att =[]\n",
    "    for i in df_Paper.iloc[:,1]:\n",
    "        internal.append(i)\n",
    "    for i in df_Paper.iloc[:,2]:\n",
    "        internal_att.append(i)\n",
    "        univ.append(attainment)\n",
    "        if attainment >= 60:\n",
    "            univ_att.append(3)\n",
    "        elif attainment >= 50:\n",
    "            univ_att.append(2)\n",
    "        elif attainment >= 40:\n",
    "            univ_att.append(1)\n",
    "        else:\n",
    "            univ_att.append(0)\n",
    "\n",
    "    from xlrd import open_workbook\n",
    "    from xlutils.copy import copy\n",
    "    rb = open_workbook(excel_name)\n",
    "    wb = copy(rb)\n",
    "    s = wb.get_sheet(0)\n",
    "    for i in range(total_length):\n",
    "        if attainment >= 60:\n",
    "            s.write(i+1,4,3)\n",
    "        elif attainment >= 50:\n",
    "            s.write(i+1,4,2)\n",
    "        elif attainment >= 40:\n",
    "            s.write(i+1,4,1)\n",
    "        else:\n",
    "            s.write(i+1,4,0)\n",
    "        s.write(i+1,3,attainment)\n",
    "    for i in range(total_length):\n",
    "        s.write(i+1,5,float(str((internal[i]*0.5)+(univ[i]*0.5))[:5]))\n",
    "    for i in range(total_length):\n",
    "        s.write(i+1,6,float(str((internal_att[i]*0.5)+(univ_att[i]*0.5))[:5]))\n",
    "    wb.save(excel_name)\n",
    "    "
   ]
  },
  {
   "cell_type": "code",
   "execution_count": null,
   "metadata": {},
   "outputs": [],
   "source": [
    "def get_sub_marks(excel_file_name):\n",
    "    regulation = int(input(\"\\nEnter regulation 2017 or 2013 for \"+str(excel_file_name)+\"...\\n\"))\n",
    "    df_Paper = pd.read_excel(excel_file_name)\n",
    "\n",
    "    column_names = df_Paper.columns[:]    \n",
    "    counter = 0\n",
    "    for col_name in column_names:\n",
    "        grades = []\n",
    "        calc = 0\n",
    "        breakable=0\n",
    "        for i in df_Paper.loc[1:,col_name]:\n",
    "            breakable+=1\n",
    "            if pd.isna(i) or i == '0' or i==0 or i==0.0 or (col_name!='S.NO' and counter == breakable):\n",
    "                sub_name = col_name\n",
    "                if col_name in column_names[3:]:\n",
    "                    more_than_60 = 0\n",
    "                    if regulation == 2017:\n",
    "                        for i in grades:\n",
    "                            temp = str(i).strip()\n",
    "                            if temp in \"AA+BB+O\":\n",
    "                                more_than_60+=1\n",
    "                    else:\n",
    "                        for i in grades:\n",
    "                            temp = str(i).strip()\n",
    "                            if temp in \"SABCD\":\n",
    "                                more_than_60+=1   \n",
    "            \n",
    "                    write_co_attainment(sub_name, more_than_60 / (counter-1) * 100)\n",
    "                break\n",
    "            if col_name in column_names[3:]:\n",
    "                grades.append(i)\n",
    "            if col_name == 'S.NO':\n",
    "                counter+=1"
   ]
  },
  {
   "cell_type": "code",
   "execution_count": null,
   "metadata": {},
   "outputs": [],
   "source": [
    "myList = []\n",
    "for i in os.listdir():\n",
    "    if \"UNIV\" in i:\n",
    "        print(i)\n",
    "        get_sub_marks(i)\n",
    "        print(\"\\nCalculating university marks for \"+str(i)+\" ...\\n\")"
   ]
  },
  {
   "cell_type": "code",
   "execution_count": null,
   "metadata": {},
   "outputs": [],
   "source": []
  },
  {
   "cell_type": "code",
   "execution_count": null,
   "metadata": {},
   "outputs": [],
   "source": []
  }
 ],
 "metadata": {
  "kernelspec": {
   "display_name": "Python 3",
   "language": "python",
   "name": "python3"
  },
  "language_info": {
   "codemirror_mode": {
    "name": "ipython",
    "version": 3
   },
   "file_extension": ".py",
   "mimetype": "text/x-python",
   "name": "python",
   "nbconvert_exporter": "python",
   "pygments_lexer": "ipython3",
   "version": "3.8.5"
  }
 },
 "nbformat": 4,
 "nbformat_minor": 4
}
